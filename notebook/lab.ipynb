{
 "cells": [
  {
   "cell_type": "code",
   "execution_count": 13,
   "id": "359c1d86-ee72-47d7-8dc3-26e0ecc6b025",
   "metadata": {
    "tags": []
   },
   "outputs": [
    {
     "name": "stdout",
     "output_type": "stream",
     "text": [
      "root\n",
      " |-- id: long (nullable = true)\n",
      " |-- name: string (nullable = true)\n",
      "\n"
     ]
    }
   ],
   "source": [
    "from pyspark.sql import SparkSession\n",
    "from pyspark.sql.types import *\n",
    "from pyspark.sql.functions import *\n",
    "\n",
    "from datetime import datetime\n",
    "import pytz\n",
    "\n",
    "# spark = SparkSession.builder.appName('Lab').getOrCreate()\n",
    "# data = [(\"Alice\", 25), (\"Bob\", 30), (\"Charlie\", 28)]\n",
    "# col = [\"name\", \"age\"]\n",
    "\n",
    "# data = [(1, \"foo\"),(2, \"bar\")]\n",
    "# col = [\"id\", \"name\"]\n",
    "# df = spark.createDataFrame([(1, \"foo\"),(2, \"bar\")], [\"id\", \"name\"])\n",
    "# df.printSchema()"
   ]
  },
  {
   "cell_type": "code",
   "execution_count": 17,
   "id": "ddf1a4e9-a6e1-4eec-996e-277f085eb01b",
   "metadata": {},
   "outputs": [],
   "source": [
    "path = '../data/transaction.csv'\n",
    "df = spark.read.csv(path, sep='|', header=True, inferSchema=True)"
   ]
  },
  {
   "cell_type": "code",
   "execution_count": 20,
   "id": "06cdc750-4401-495a-bb54-cc5eb7931289",
   "metadata": {
    "tags": []
   },
   "outputs": [
    {
     "data": {
      "text/plain": [
       "StructType([StructField('transactionId', StringType(), True), StructField('custId', IntegerType(), True), StructField('transactionDate', DateType(), True), StructField('productSold', StringType(), True), StructField('unitsSold', IntegerType(), True)])"
      ]
     },
     "execution_count": 20,
     "metadata": {},
     "output_type": "execute_result"
    }
   ],
   "source": [
    "df.schema"
   ]
  },
  {
   "cell_type": "code",
   "execution_count": null,
   "id": "2b56c30b-dbba-4213-8c14-8895113e7037",
   "metadata": {
    "tags": []
   },
   "outputs": [],
   "source": [
    "df.printSchema()"
   ]
  },
  {
   "cell_type": "code",
   "execution_count": 757,
   "id": "1a86eefd-078d-4d4a-8de8-7d6467420f0d",
   "metadata": {
    "tags": []
   },
   "outputs": [
    {
     "name": "stdout",
     "output_type": "stream",
     "text": [
      "+----------------+------+---------------+-----------+---------+\n",
      "|   transactionId|custId|transactionDate|productSold|unitsSold|\n",
      "+----------------+------+---------------+-----------+---------+\n",
      "|20110111-0023586| 23586|     2011-01-11|    DETA800|      176|\n",
      "|20110111-0023586| 23586|     2011-01-11|    SUPA101|      193|\n",
      "|20110111-0023586| 23586|     2011-01-11|    SUPA102|      157|\n",
      "|20110113-0023524| 23524|     2011-01-13|    PURA250|      122|\n",
      "|20110113-0023844| 23844|     2011-01-13|    SUPA101|      217|\n",
      "|20110114-0023968| 23968|     2011-01-14|    PURA100|      284|\n",
      "|20110119-0023582| 23582|     2011-01-19|    PURA100|      184|\n",
      "|20110119-0023582| 23582|     2011-01-19|    PURA250|      178|\n",
      "|20110119-0023582| 23582|     2011-01-19|    SUPA101|      173|\n",
      "|20110119-0023582| 23582|     2011-01-19|    SUPA101|      173|\n",
      "+----------------+------+---------------+-----------+---------+\n",
      "only showing top 10 rows\n",
      "\n"
     ]
    }
   ],
   "source": [
    "df.show(10)"
   ]
  },
  {
   "cell_type": "code",
   "execution_count": 759,
   "id": "53cd080f-3ffc-4e79-a524-9cc4ddf0347b",
   "metadata": {
    "tags": []
   },
   "outputs": [
    {
     "data": {
      "text/plain": [
       "pyspark.sql.dataframe.DataFrame"
      ]
     },
     "execution_count": 759,
     "metadata": {},
     "output_type": "execute_result"
    }
   ],
   "source": [
    "type(df)"
   ]
  },
  {
   "cell_type": "code",
   "execution_count": 714,
   "id": "feb5bea6-6496-4ef8-862c-4f127ab33820",
   "metadata": {
    "tags": []
   },
   "outputs": [
    {
     "name": "stdout",
     "output_type": "stream",
     "text": [
      "+--------------+\n",
      "|sum(unitsSold)|\n",
      "+--------------+\n",
      "|           654|\n",
      "+--------------+\n",
      "\n"
     ]
    }
   ],
   "source": [
    "df.filter((f.col(\"productSold\") == 'DETA800') & (f.col(\"custId\") == '23262')).agg(f.sum('unitsSold')).show()"
   ]
  },
  {
   "cell_type": "markdown",
   "id": "06572fae-fae2-4b56-808e-7a4e1433b7f2",
   "metadata": {},
   "source": [
    "# FavProduct"
   ]
  },
  {
   "cell_type": "code",
   "execution_count": 715,
   "id": "45f8d366-36b2-44ad-87f2-1cbfa7bba9cf",
   "metadata": {
    "tags": []
   },
   "outputs": [],
   "source": [
    "# df2 = df.groupBy('custId','productSold').sum('unitsSold').withColumnRenamed(\"sum(unitsSold)\", \"totalUnitsSold\").orderBy('custId')\n",
    "df2 = df.groupBy('custId','productSold').agg(F.sum('unitsSold').alias('totalUnitsSold')).orderBy('custId')"
   ]
  },
  {
   "cell_type": "code",
   "execution_count": 716,
   "id": "937b43a3-f5ef-48f8-98dc-ae486c47e8c8",
   "metadata": {
    "tags": []
   },
   "outputs": [
    {
     "name": "stdout",
     "output_type": "stream",
     "text": [
      "+------+-----------+--------------+\n",
      "|custId|productSold|totalUnitsSold|\n",
      "+------+-----------+--------------+\n",
      "| 23262|    SUPA102|           204|\n",
      "| 23262|    DETA200|           129|\n",
      "| 23262|    PURA100|           492|\n",
      "| 23262|    PURA250|           410|\n",
      "| 23262|    PURA500|           534|\n",
      "| 23262|    SUPA101|           351|\n",
      "| 23262|    SUPA105|           239|\n",
      "| 23262|    SUPA104|           239|\n",
      "| 23262|    SUPA103|           250|\n",
      "| 23262|    DETA100|           338|\n",
      "+------+-----------+--------------+\n",
      "only showing top 10 rows\n",
      "\n"
     ]
    }
   ],
   "source": [
    "df2.show(10)"
   ]
  },
  {
   "cell_type": "code",
   "execution_count": 724,
   "id": "56023547-eeb9-4bb2-a622-6acf19007707",
   "metadata": {
    "tags": []
   },
   "outputs": [],
   "source": [
    "w = W.partitionBy('custId').orderBy(f.col(\"totalUnitsSold\").desc())\n",
    "df3 = df2.withColumn(\"row\", F.row_number().over(w)).filter(F.col(\"row\") == 1).drop(\"row\")"
   ]
  },
  {
   "cell_type": "code",
   "execution_count": 725,
   "id": "c0fd5e1c-0a96-49d5-900f-d708b2cd42a8",
   "metadata": {
    "tags": []
   },
   "outputs": [],
   "source": [
    "df3 = df3.withColumnRenamed('productSold', 'favourite_product').drop(\"totalUnitsSold\")"
   ]
  },
  {
   "cell_type": "code",
   "execution_count": 726,
   "id": "dc52cb25-d8a2-4df5-aa5e-7e9c90b962b9",
   "metadata": {
    "tags": []
   },
   "outputs": [
    {
     "name": "stdout",
     "output_type": "stream",
     "text": [
      "+------+-----------------+\n",
      "|custId|favourite_product|\n",
      "+------+-----------------+\n",
      "| 23262|          DETA800|\n",
      "| 23263|          PURA100|\n",
      "| 23264|          PURA500|\n",
      "| 23266|          SUPA104|\n",
      "| 23267|          PURA100|\n",
      "| 23268|          PURA250|\n",
      "| 23269|          SUPA101|\n",
      "| 23270|          PURA500|\n",
      "| 23271|          PURA250|\n",
      "| 23273|          PURA100|\n",
      "+------+-----------------+\n",
      "only showing top 10 rows\n",
      "\n"
     ]
    }
   ],
   "source": [
    "df3.show(10)"
   ]
  },
  {
   "cell_type": "code",
   "execution_count": 727,
   "id": "31ff1a71-794c-404c-9884-c98dadccec9e",
   "metadata": {
    "tags": []
   },
   "outputs": [],
   "source": [
    "fav_df = df3.alias('fav_df')"
   ]
  },
  {
   "cell_type": "markdown",
   "id": "38aae396-ba1b-4595-8125-7a5ca98b36ea",
   "metadata": {},
   "source": [
    "# Longest Streak"
   ]
  },
  {
   "cell_type": "code",
   "execution_count": 656,
   "id": "087a5c5d-56c6-4e48-8ea4-0169831b0e90",
   "metadata": {
    "tags": []
   },
   "outputs": [],
   "source": [
    "# data = [\n",
    "#     (\"Alice\", date.fromisoformat(\"2023-01-01\")),\n",
    "#     (\"Alice\", date.fromisoformat(\"2023-01-02\")),\n",
    "#     (\"Alice\", date.fromisoformat(\"2023-01-03\")),\n",
    "#     (\"Alice\", date.fromisoformat(\"2023-01-06\")),\n",
    "#     (\"Alice\", date.fromisoformat(\"2023-01-07\")),\n",
    "#     (\"Alice\", date.fromisoformat(\"2023-01-08\")),\n",
    "#     (\"Foo\", date.fromisoformat(\"2023-01-05\")),\n",
    "#     (\"Foo\", date.fromisoformat(\"2023-01-06\")),\n",
    "#     (\"Foo\", date.fromisoformat(\"2023-01-07\")),\n",
    "#     (\"Foo\", date.fromisoformat(\"2023-01-07\")),\n",
    "#     (\"Foo\", date.fromisoformat(\"2023-01-09\")),\n",
    "#     (\"Bar\", date.fromisoformat(\"2023-01-09\"))\n",
    "# ]\n",
    "# df = spark.createDataFrame(data, schema=\"custId string, transactionDate date\")"
   ]
  },
  {
   "cell_type": "code",
   "execution_count": 657,
   "id": "3dd02f80-61a3-424c-82fb-ba63395ef1ba",
   "metadata": {
    "tags": []
   },
   "outputs": [
    {
     "data": {
      "text/plain": [
       "['transactionId', 'custId', 'transactionDate', 'productSold', 'unitsSold']"
      ]
     },
     "execution_count": 657,
     "metadata": {},
     "output_type": "execute_result"
    }
   ],
   "source": [
    "df.columns"
   ]
  },
  {
   "cell_type": "code",
   "execution_count": 658,
   "id": "b3c7fa56-77f4-42df-86cd-7b7f74255a75",
   "metadata": {
    "tags": []
   },
   "outputs": [
    {
     "name": "stdout",
     "output_type": "stream",
     "text": [
      "+----------------+------+---------------+-----------+---------+\n",
      "|   transactionId|custId|transactionDate|productSold|unitsSold|\n",
      "+----------------+------+---------------+-----------+---------+\n",
      "|20110111-0023586| 23586|     2011-01-11|    DETA800|      176|\n",
      "|20110111-0023586| 23586|     2011-01-11|    SUPA101|      193|\n",
      "|20110111-0023586| 23586|     2011-01-11|    SUPA102|      157|\n",
      "|20110113-0023524| 23524|     2011-01-13|    PURA250|      122|\n",
      "|20110113-0023844| 23844|     2011-01-13|    SUPA101|      217|\n",
      "|20110114-0023968| 23968|     2011-01-14|    PURA100|      284|\n",
      "|20110119-0023582| 23582|     2011-01-19|    PURA100|      184|\n",
      "|20110119-0023582| 23582|     2011-01-19|    PURA250|      178|\n",
      "|20110119-0023582| 23582|     2011-01-19|    SUPA101|      173|\n",
      "|20110119-0023582| 23582|     2011-01-19|    SUPA101|      173|\n",
      "|20110119-0023582| 23582|     2011-01-19|    SUPA101|      173|\n",
      "|20110123-0023572| 23572|     2011-01-23|    PURA500|       90|\n",
      "|20110124-0023861| 23861|     2011-01-24|    PURA100|       16|\n",
      "|20110124-0023861| 23861|     2011-01-24|    PURA250|       12|\n",
      "|20110124-0023861| 23861|     2011-01-24|    PURA500|       15|\n",
      "|20110126-0024221| 24221|     2011-01-26|    SUPA101|      191|\n",
      "|20110126-0024221| 24221|     2011-01-26|    SUPA102|      189|\n",
      "|20110126-0024221| 24221|     2011-01-26|    SUPA103|      189|\n",
      "|20110127-0024051| 24051|     2011-01-27|    DETA200|       83|\n",
      "|20110127-0024051| 24051|     2011-01-27|    PURA100|       86|\n",
      "+----------------+------+---------------+-----------+---------+\n",
      "only showing top 20 rows\n",
      "\n"
     ]
    }
   ],
   "source": [
    "df.show()"
   ]
  },
  {
   "cell_type": "code",
   "execution_count": 675,
   "id": "2ef3bcbd-31c9-4ff9-b56b-b930ad83b739",
   "metadata": {
    "tags": []
   },
   "outputs": [],
   "source": [
    "df2 = df.groupby(['custId','transactionDate']).agg(F.count('transactionId').alias('trxCount'))"
   ]
  },
  {
   "cell_type": "code",
   "execution_count": 676,
   "id": "0eba6ca3-de64-42e1-8042-bf7c3da8dc9d",
   "metadata": {
    "tags": []
   },
   "outputs": [
    {
     "name": "stdout",
     "output_type": "stream",
     "text": [
      "+------+---------------+--------+\n",
      "|custId|transactionDate|trxCount|\n",
      "+------+---------------+--------+\n",
      "| 23262|     2012-09-11|       3|\n",
      "| 23262|     2012-01-30|       1|\n",
      "| 23262|     2011-11-06|       2|\n",
      "| 23262|     2012-05-17|       1|\n",
      "| 23262|     2011-11-23|       1|\n",
      "| 23262|     2012-02-15|       2|\n",
      "| 23262|     2012-01-17|       2|\n",
      "| 23262|     2011-12-16|       3|\n",
      "| 23262|     2012-01-22|       2|\n",
      "| 23262|     2011-11-30|       2|\n",
      "| 23262|     2012-01-13|       3|\n",
      "| 23262|     2012-07-02|       2|\n",
      "| 23262|     2012-07-15|       3|\n",
      "| 23262|     2012-07-16|       3|\n",
      "| 23262|     2012-09-30|       2|\n",
      "+------+---------------+--------+\n",
      "\n"
     ]
    }
   ],
   "source": [
    "df2.filter(F.col(\"custId\") == '23262').show(1000)"
   ]
  },
  {
   "cell_type": "code",
   "execution_count": 677,
   "id": "595dd0da-9be3-4d03-ac79-00fa709294bc",
   "metadata": {
    "tags": []
   },
   "outputs": [],
   "source": [
    "w = W.partitionBy('custId').orderBy('transactionDate')\n",
    "df2 = df2.withColumn('transactionDate', F.to_date('transactionDate', format='yyyy-MM-dd'))"
   ]
  },
  {
   "cell_type": "code",
   "execution_count": 678,
   "id": "b5121115-0479-45fa-a858-ebd6de6b84ee",
   "metadata": {
    "tags": []
   },
   "outputs": [],
   "source": [
    "df2 = df2.orderBy([\"custId\", \"transactionDate\"])"
   ]
  },
  {
   "cell_type": "code",
   "execution_count": 679,
   "id": "a45f5ad0-ea3e-4910-875c-b055e0ba667f",
   "metadata": {
    "tags": []
   },
   "outputs": [],
   "source": [
    "diff = F.datediff('transactionDate', F.lag('transactionDate').over(w))\n",
    "df3 = df2.withColumn('datediff', F.coalesce(diff))"
   ]
  },
  {
   "cell_type": "code",
   "execution_count": 680,
   "id": "f8cc0f65-dc24-4013-82c2-059f55793acf",
   "metadata": {
    "tags": []
   },
   "outputs": [],
   "source": [
    "df3 = df3.withColumn('datediff', F.coalesce(diff, F.lit(0)))"
   ]
  },
  {
   "cell_type": "code",
   "execution_count": 682,
   "id": "0647c1fc-7910-4228-8995-87e1c1ef3c29",
   "metadata": {
    "tags": []
   },
   "outputs": [],
   "source": [
    "# df = df.withColumn('isConsecutive', F.when(F.col('datediff').isNull(), False).when(F.col('datediff') == 0, True).when(F.col('datediff') == 1, True).otherwise(False))\n",
    "df3 = df3.withColumn('isConsecutive', F.when(F.col('datediff') == 1, True).otherwise(False))"
   ]
  },
  {
   "cell_type": "code",
   "execution_count": 685,
   "id": "5fdd8d2e-e51e-4567-a25d-fe5dce60a510",
   "metadata": {
    "tags": []
   },
   "outputs": [
    {
     "name": "stdout",
     "output_type": "stream",
     "text": [
      "+------+---------------+--------+--------+-------------+\n",
      "|custId|transactionDate|trxCount|datediff|isConsecutive|\n",
      "+------+---------------+--------+--------+-------------+\n",
      "| 23262|     2011-11-06|       2|       0|        false|\n",
      "| 23262|     2011-11-23|       1|      17|        false|\n",
      "| 23262|     2011-11-30|       2|       7|        false|\n",
      "| 23262|     2011-12-16|       3|      16|        false|\n",
      "| 23262|     2012-01-13|       3|      28|        false|\n",
      "| 23262|     2012-01-17|       2|       4|        false|\n",
      "| 23262|     2012-01-22|       2|       5|        false|\n",
      "| 23262|     2012-01-30|       1|       8|        false|\n",
      "| 23262|     2012-02-15|       2|      16|        false|\n",
      "| 23262|     2012-05-17|       1|      92|        false|\n",
      "+------+---------------+--------+--------+-------------+\n",
      "only showing top 10 rows\n",
      "\n"
     ]
    }
   ],
   "source": [
    "df3.show(10)"
   ]
  },
  {
   "cell_type": "code",
   "execution_count": 688,
   "id": "fb3a140f-4abf-41e1-a11f-2ebde7b51a0b",
   "metadata": {
    "tags": []
   },
   "outputs": [],
   "source": [
    "df3 = df3.withColumn('group', F.sum((~F.col('isConsecutive')).cast('int')).over(w))"
   ]
  },
  {
   "cell_type": "code",
   "execution_count": 689,
   "id": "eb76f4ff-8f95-4e4a-b4c1-8b26ca032ec4",
   "metadata": {
    "tags": []
   },
   "outputs": [
    {
     "name": "stdout",
     "output_type": "stream",
     "text": [
      "+------+---------------+--------+--------+-------------+-----+\n",
      "|custId|transactionDate|trxCount|datediff|isConsecutive|group|\n",
      "+------+---------------+--------+--------+-------------+-----+\n",
      "| 23262|     2011-11-06|       2|       0|        false|    1|\n",
      "| 23262|     2011-11-23|       1|      17|        false|    2|\n",
      "| 23262|     2011-11-30|       2|       7|        false|    3|\n",
      "| 23262|     2011-12-16|       3|      16|        false|    4|\n",
      "| 23262|     2012-01-13|       3|      28|        false|    5|\n",
      "| 23262|     2012-01-17|       2|       4|        false|    6|\n",
      "| 23262|     2012-01-22|       2|       5|        false|    7|\n",
      "| 23262|     2012-01-30|       1|       8|        false|    8|\n",
      "| 23262|     2012-02-15|       2|      16|        false|    9|\n",
      "| 23262|     2012-05-17|       1|      92|        false|   10|\n",
      "| 23262|     2012-07-02|       2|      46|        false|   11|\n",
      "| 23262|     2012-07-15|       3|      13|        false|   12|\n",
      "| 23262|     2012-07-16|       3|       1|         true|   12|\n",
      "| 23262|     2012-09-11|       3|      57|        false|   13|\n",
      "| 23262|     2012-09-30|       2|      19|        false|   14|\n",
      "+------+---------------+--------+--------+-------------+-----+\n",
      "\n"
     ]
    }
   ],
   "source": [
    "df3.filter(F.col(\"custId\") == '23262').show(1000)"
   ]
  },
  {
   "cell_type": "code",
   "execution_count": 702,
   "id": "706a5739-8d4e-4353-8359-2ee1010faa23",
   "metadata": {
    "tags": []
   },
   "outputs": [],
   "source": [
    "df4 = df3.groupBy('custID','group').agg(F.sum(F.lit(1)).alias('longestStreak'))"
   ]
  },
  {
   "cell_type": "code",
   "execution_count": 704,
   "id": "565cc3a9-cc5c-42eb-8182-2f0b84395f43",
   "metadata": {
    "tags": []
   },
   "outputs": [
    {
     "name": "stdout",
     "output_type": "stream",
     "text": [
      "+------+------------------+\n",
      "|custID|max(longestStreak)|\n",
      "+------+------------------+\n",
      "| 23262|                 2|\n",
      "| 23263|                 2|\n",
      "| 23264|                 1|\n",
      "| 23266|                 1|\n",
      "| 23267|                 2|\n",
      "| 23268|                 1|\n",
      "| 23269|                 1|\n",
      "| 23270|                 1|\n",
      "| 23271|                 1|\n",
      "| 23273|                 1|\n",
      "| 23274|                 1|\n",
      "| 23275|                 1|\n",
      "| 23276|                 1|\n",
      "| 23277|                 1|\n",
      "| 23278|                 2|\n",
      "| 23279|                 1|\n",
      "| 23280|                 1|\n",
      "| 23281|                 1|\n",
      "| 23282|                 1|\n",
      "| 23283|                 1|\n",
      "+------+------------------+\n",
      "only showing top 20 rows\n",
      "\n"
     ]
    }
   ],
   "source": [
    "df4.groupBy('custID').agg(F.max('longestStreak')).show()"
   ]
  },
  {
   "cell_type": "code",
   "execution_count": 735,
   "id": "8a81b6c2-5ae4-4fff-88a1-291520960998",
   "metadata": {
    "tags": []
   },
   "outputs": [],
   "source": [
    "con_df = df4.groupBy('custID').agg(F.max('longestStreak').alias('longestStreak'))"
   ]
  },
  {
   "cell_type": "markdown",
   "id": "16cd2110-d51d-4b25-8cac-581b6eaa89c8",
   "metadata": {},
   "source": [
    "# Aggregation"
   ]
  },
  {
   "cell_type": "code",
   "execution_count": 736,
   "id": "da36f20f-a23f-471e-a5c8-bef6a97d1a0e",
   "metadata": {
    "tags": []
   },
   "outputs": [
    {
     "name": "stdout",
     "output_type": "stream",
     "text": [
      "+------+-------------+\n",
      "|custID|longestStreak|\n",
      "+------+-------------+\n",
      "| 23262|            2|\n",
      "| 23263|            2|\n",
      "| 23264|            1|\n",
      "| 23266|            1|\n",
      "| 23267|            2|\n",
      "+------+-------------+\n",
      "only showing top 5 rows\n",
      "\n"
     ]
    }
   ],
   "source": [
    "con_df.show(5)"
   ]
  },
  {
   "cell_type": "code",
   "execution_count": 737,
   "id": "ed61e067-e718-4947-bb08-481d3c261e06",
   "metadata": {
    "tags": []
   },
   "outputs": [
    {
     "data": {
      "text/plain": [
       "885"
      ]
     },
     "execution_count": 737,
     "metadata": {},
     "output_type": "execute_result"
    }
   ],
   "source": [
    "con_df.count()"
   ]
  },
  {
   "cell_type": "code",
   "execution_count": 738,
   "id": "d5ae30ca-51eb-4f60-82b6-7ddd97785a3b",
   "metadata": {
    "tags": []
   },
   "outputs": [
    {
     "name": "stdout",
     "output_type": "stream",
     "text": [
      "+------+-----------------+\n",
      "|custId|favourite_product|\n",
      "+------+-----------------+\n",
      "| 23262|          DETA800|\n",
      "| 23263|          PURA100|\n",
      "| 23264|          PURA500|\n",
      "| 23266|          SUPA104|\n",
      "| 23267|          PURA100|\n",
      "+------+-----------------+\n",
      "only showing top 5 rows\n",
      "\n"
     ]
    }
   ],
   "source": [
    "fav_df.show(5)"
   ]
  },
  {
   "cell_type": "code",
   "execution_count": 734,
   "id": "e84c1f4c-053a-42e5-9c35-b5f87cfbc98b",
   "metadata": {
    "tags": []
   },
   "outputs": [
    {
     "data": {
      "text/plain": [
       "885"
      ]
     },
     "execution_count": 734,
     "metadata": {},
     "output_type": "execute_result"
    }
   ],
   "source": [
    "fav_df.count()"
   ]
  },
  {
   "cell_type": "code",
   "execution_count": 746,
   "id": "e5125a26-1a36-4170-93bd-b8890abdfeb5",
   "metadata": {
    "tags": []
   },
   "outputs": [
    {
     "name": "stdout",
     "output_type": "stream",
     "text": [
      "+------+-----------------+-------------+\n",
      "|custId|favourite_product|longestStreak|\n",
      "+------+-----------------+-------------+\n",
      "| 23262|          DETA800|            2|\n",
      "| 23263|          PURA100|            2|\n",
      "| 23264|          PURA500|            1|\n",
      "| 23266|          SUPA104|            1|\n",
      "| 23267|          PURA100|            2|\n",
      "| 23268|          PURA250|            1|\n",
      "| 23269|          SUPA101|            1|\n",
      "| 23270|          PURA500|            1|\n",
      "| 23271|          PURA250|            1|\n",
      "| 23273|          PURA100|            1|\n",
      "| 23274|          PURA100|            1|\n",
      "| 23275|          PURA500|            1|\n",
      "| 23276|          PURA500|            1|\n",
      "| 23277|          PURA100|            1|\n",
      "| 23278|          SUPA101|            2|\n",
      "| 23279|          PURA500|            1|\n",
      "| 23280|          PURA100|            1|\n",
      "| 23281|          PURA500|            1|\n",
      "| 23282|          PURA500|            1|\n",
      "| 23283|          PURA100|            1|\n",
      "+------+-----------------+-------------+\n",
      "only showing top 20 rows\n",
      "\n"
     ]
    }
   ],
   "source": [
    "fav_df.join(con_df, ['custId']).orderBy('custId').show()"
   ]
  },
  {
   "cell_type": "code",
   "execution_count": 747,
   "id": "7b94a62d-0fb5-489a-9662-e51057e3f82b",
   "metadata": {
    "tags": []
   },
   "outputs": [],
   "source": [
    "final_df = fav_df.join(con_df, ['custId']).orderBy('custId')"
   ]
  },
  {
   "cell_type": "markdown",
   "id": "50c9b5ac-c25b-4ba9-b3ec-a107e90503cc",
   "metadata": {},
   "source": [
    "# Test"
   ]
  },
  {
   "cell_type": "code",
   "execution_count": null,
   "id": "9292ce9e-7cc0-420b-a754-de76fcf5d9fb",
   "metadata": {},
   "outputs": [],
   "source": [
    "# 23262"
   ]
  },
  {
   "cell_type": "code",
   "execution_count": 693,
   "id": "70ec3f04-468b-4029-9f2c-6bfe72cde448",
   "metadata": {
    "tags": []
   },
   "outputs": [
    {
     "name": "stdout",
     "output_type": "stream",
     "text": [
      "+----------------+------+---------------+-----------+---------+\n",
      "|   transactionId|custId|transactionDate|productSold|unitsSold|\n",
      "+----------------+------+---------------+-----------+---------+\n",
      "|20120205-0023278| 23278|     2012-02-05|    PURA250|      214|\n",
      "|20120205-0023278| 23278|     2012-02-05|    SUPA101|      191|\n",
      "|20120205-0023278| 23278|     2012-02-05|    SUPA103|      167|\n",
      "|20120208-0023278| 23278|     2012-02-08|    DETA800|      196|\n",
      "|20120208-0023278| 23278|     2012-02-08|    PURA100|      188|\n",
      "|20120310-0023278| 23278|     2012-03-10|    SUPA101|      254|\n",
      "|20120324-0023278| 23278|     2012-03-24|    SUPA101|      249|\n",
      "|20120325-0023278| 23278|     2012-03-25|    PURA100|      228|\n",
      "|20120325-0023278| 23278|     2012-03-25|    PURA250|      212|\n",
      "|20120325-0023278| 23278|     2012-03-25|    SUPA102|      199|\n",
      "|20120517-0023278| 23278|     2012-05-17|    PURA100|      224|\n",
      "|20120601-0023278| 23278|     2012-06-01|    PURA100|      225|\n",
      "|20120721-0023278| 23278|     2012-07-21|    SUPA104|      222|\n",
      "|20120723-0023278| 23278|     2012-07-23|    SUPA101|      243|\n",
      "|20120928-0023278| 23278|     2012-09-28|    DETA800|      200|\n",
      "|20120928-0023278| 23278|     2012-09-28|    PURA100|      161|\n",
      "|20120928-0023278| 23278|     2012-09-28|    SUPA101|      165|\n",
      "+----------------+------+---------------+-----------+---------+\n",
      "\n"
     ]
    }
   ],
   "source": [
    "df.filter(F.col(\"custId\") == '23278').show(1000)"
   ]
  },
  {
   "cell_type": "code",
   "execution_count": null,
   "id": "6387a627-f679-4aab-82c8-2b172d971ec0",
   "metadata": {},
   "outputs": [],
   "source": []
  }
 ],
 "metadata": {
  "kernelspec": {
   "display_name": "Python 3 (ipykernel)",
   "language": "python",
   "name": "python3"
  },
  "language_info": {
   "codemirror_mode": {
    "name": "ipython",
    "version": 3
   },
   "file_extension": ".py",
   "mimetype": "text/x-python",
   "name": "python",
   "nbconvert_exporter": "python",
   "pygments_lexer": "ipython3",
   "version": "3.9.13"
  }
 },
 "nbformat": 4,
 "nbformat_minor": 5
}
